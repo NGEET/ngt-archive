{
 "cells": [
  {
   "cell_type": "markdown",
   "metadata": {},
   "source": [
    "# Minting NGEE Tropics DOIs \n",
    "This notebook has the steps for minting an NGEE Tropics data set DOI."
   ]
  },
  {
   "cell_type": "markdown",
   "metadata": {},
   "source": [
    "### Setup\n",
    "**a.** <br>\n",
    "You need to set the following environment variables before you start this Jupyter notebook.:\n",
    "\n",
    "* `NGT_USERNAME`\n",
    "* `NGT_PASSWORD`\n",
    "* `ELINK_USER`\n",
    "* `ELINK_PASSWORD`\n",
    "\n",
    "If you need to set these variables, stop Jupyter and do the following.\n",
    "\n",
    "Create an environment file named `mint_doi_ngt.sh` and put the following \n",
    "text in it.\n",
    "\n",
    "    export NGT_USERNAME=<your username>\n",
    "    export NGT_PASSWORD=<your password>\n",
    "    export ELINK_USER=<your user>\n",
    "    export ELINK_PASSWORD=<your password>\n",
    "    \n",
    "Next, before you start Jupyter up again do the following.\n",
    "\n",
    "    source mint_doi_ngt.sh"
   ]
  },
  {
   "cell_type": "markdown",
   "metadata": {},
   "source": [
    "**b.**\n",
    "<br> Verify that you have access to ngt-dev.lbl.gov <br>\n",
    "Verify that you are in the NGT Administrator group"
   ]
  },
  {
   "cell_type": "code",
   "execution_count": null,
   "metadata": {},
   "outputs": [],
   "source": [
    "def print_response(response):\n",
    "    \"\"\"\n",
    "    Pretty print the HTTP Response\n",
    "    \"\"\"\n",
    "    print (\"Status Code: {}\".format(r.status_code))\n",
    "    print(r.text)"
   ]
  },
  {
   "cell_type": "code",
   "execution_count": null,
   "metadata": {
    "scrolled": true
   },
   "outputs": [],
   "source": [
    "from ipywidgets import widgets, interact\n",
    "from IPython.display import display\n",
    "\n",
    "# Setup the inputs\n",
    "host_text = widgets.Text(\"https://ngt-dev.lbl.gov\", description=\"Host:\")\n",
    "ngt_id_text = widgets.Text(\"NGT0050\", description=\"NGT ID:\")\n",
    "\n",
    "# Display Widgets\n",
    "display(host_text)\n",
    "display(ngt_id_text)"
   ]
  },
  {
   "cell_type": "markdown",
   "metadata": {},
   "source": [
    "## OAUTH Token\n",
    "### Step 1: Register an application\n",
    "To obtain a valid access_token first we must register an application. DOT has a set of customizable views you can use to CRUD application instances, just point your browser at:\n",
    "\n",
    "http://{ngt-host}/o/applications/ <br>\n",
    "\n",
    "Click on the link to create a new application and fill the form with the following data:\n",
    "\n",
    "- *Name:* just a name of your choice\n",
    "- *Client Type:* confidential\n",
    "- *Authorization Grant Type:* Resource owner password-based\n",
    "\n",
    "Save your app!\n",
    "\n"
   ]
  },
  {
   "cell_type": "markdown",
   "metadata": {},
   "source": [
    "Enter your client id and client secret:"
   ]
  },
  {
   "cell_type": "code",
   "execution_count": null,
   "metadata": {},
   "outputs": [],
   "source": [
    "# Setup the inputs\n",
    "\n",
    "client_id_text = widgets.Text(\"<your client_id>\", description=\"Client ID:\") \n",
    "client_secret_text = widgets.Text(\"<your client secret>\", description=\"Client Secret:\") \n",
    "access_token_text = widgets.Text(\"\", description=\"Token:\")\n",
    "\n",
    "# Display Widgets\n",
    "print(f\"Click on the link to create a new application: {host_text.value}/o/applications\")\n",
    "display(client_id_text)\n",
    "display(client_secret_text)\n",
    "display(access_token_text)"
   ]
  },
  {
   "cell_type": "markdown",
   "metadata": {},
   "source": [
    "## Step 2: Get your token and use your API\n",
    "At this point we’re ready to request an access_token."
   ]
  },
  {
   "cell_type": "code",
   "execution_count": null,
   "metadata": {},
   "outputs": [],
   "source": [
    "import requests\n",
    "import os\n",
    "\n",
    "# Was the access token provided\n",
    "if not access_token_text.value:\n",
    "    \n",
    "    # There is not access token\n",
    "    # let's get one\n",
    "    token_url=f\"{host_text.value}/o/token/\"\n",
    "    params = {'grant_type':'password',\n",
    "             'username': os.environ[\"NGT_USERNAME\"], \n",
    "             'password': os.environ[\"NGT_PASSWORD\"]}\n",
    "    print(f\"Token URL: {token_url}\")\n",
    "    r = requests.post(token_url, params, \n",
    "                      auth=(client_id_text.value, client_secret_text.value))\n",
    "\n",
    "    if r.status_code == 200:\n",
    "        print_response(r)\n",
    "        print(\"**************************************\")\n",
    "        print(\"SAVE this information for the future!!\")\n",
    "        print(\"**************************************\")\n",
    "        access_token=r.json()\n",
    "        token = access_token['access_token']\n",
    "\n",
    "    else:\n",
    "        print_response(r)\n",
    "else:\n",
    "    # An access token was provided\n",
    "    token = access_token_text.value\n",
    "    print(f\"Found Token: {token}\")"
   ]
  },
  {
   "cell_type": "markdown",
   "metadata": {},
   "source": [
    "## Step 3: Convert NGT JSON to OSTI XML"
   ]
  },
  {
   "cell_type": "markdown",
   "metadata": {},
   "source": [
    "Import needed python modules and functions"
   ]
  },
  {
   "cell_type": "code",
   "execution_count": null,
   "metadata": {},
   "outputs": [],
   "source": [
    "import sys\n",
    "import os\n",
    "import re\n",
    "import requests\n",
    "from datetime import datetime\n",
    "import xml.etree.ElementTree as ET"
   ]
  },
  {
   "cell_type": "code",
   "execution_count": null,
   "metadata": {},
   "outputs": [],
   "source": [
    "def set_value(record, name, value):\n",
    "    \"\"\"\n",
    "    Sets the element value for the record\n",
    "\n",
    "    :param record:\n",
    "    :param name: name of the field\n",
    "    :param value: value of the field to se\n",
    "    :return: None\n",
    "    \"\"\"\n",
    "\n",
    "    ET.SubElement(record, name).text=value"
   ]
  },
  {
   "cell_type": "code",
   "execution_count": null,
   "metadata": {},
   "outputs": [],
   "source": [
    "def creators(session, record, authors_json):\n",
    "    \"\"\"\n",
    "    Generate the creators block\n",
    "\n",
    "    :param session: The http session\n",
    "    :type session: requests.Session\n",
    "    :param record: The OSTI xml record\n",
    "    :param authors_json: The NGT Archive dataset authors JSON\n",
    "    :return: None\n",
    "    \"\"\"\n",
    "    creators_block = ET.SubElement(record,'creatorsblock')\n",
    "    for author in authors_json:\n",
    "\n",
    "        r = session.get(author)\n",
    "        if r.status_code == 200:\n",
    "            person_json = r.json()\n",
    "            creator_detail = ET.SubElement(creators_block,'creators_detail')\n",
    "            set_value(creator_detail,'first_name',person_json[\"first_name\"])\n",
    "            set_value(creator_detail,'last_name',person_json[\"last_name\"])\n",
    "            set_value(creator_detail,'private_email',person_json[\"email\"])\n",
    "            set_value(creator_detail,'affiliation_name',person_json[\"institution_affiliation\"])\n",
    "        else:\n",
    "            print(\"HTTP {}: {}\".format(r.status_code, r.content.decode('utf-8')), file=sys.stderr)"
   ]
  },
  {
   "cell_type": "code",
   "execution_count": null,
   "metadata": {},
   "outputs": [],
   "source": [
    "def find_dataset_by_ngt_id(session, ngt_id):\n",
    "    \"\"\"\n",
    "    Search for the dataset by NGT ID\n",
    "    \n",
    "    :param session: The http session\n",
    "    :type session: requests.Session\n",
    "    :param ngt_id: The NGT Archive id (NGTXXXX)\n",
    "    :type ngt_id: str\n",
    "    \"\"\"\n",
    "    r = session.get(url = f\"{os.path.join(host_text.value, 'api/v1/datasets/')}\")\n",
    "    if r.status_code == 200:\n",
    "        datasets = r.json()\n",
    "        for d in datasets:\n",
    "            if d[\"data_set_id\"] == ngt_id:\n",
    "                return d\n",
    "        raise Exception(\"No dataset with NGT ID {} found!!\".format(ngt_id))\n",
    "    else:\n",
    "        raise Exception(\"HTTP {}: {}\".format(r.status_code,r.content.decode('utf-8')))"
   ]
  },
  {
   "cell_type": "code",
   "execution_count": null,
   "metadata": {},
   "outputs": [],
   "source": [
    "def get_session(token):\n",
    "    \"\"\"\n",
    "    Login to NGEE Tropics and return\n",
    "    the login state\n",
    "    \n",
    "    :param tokenb: Your Access Token\n",
    "    \n",
    "    :return: requests.Session\n",
    "    \"\"\"\n",
    "    s = requests.Session()\n",
    "    s.headers.update({\"Authorization\": f\"Bearer {token}\"})\n",
    "    return s"
   ]
  },
  {
   "cell_type": "markdown",
   "metadata": {},
   "source": [
    "## Login to the NGT Archive and start a session\n",
    "Login to NGT Archive with your user credentials.  The `session` object can be used throughout this notebook to interact with **NGEE Tropics Archive Service**"
   ]
  },
  {
   "cell_type": "code",
   "execution_count": null,
   "metadata": {},
   "outputs": [],
   "source": [
    "session = get_session(token)"
   ]
  },
  {
   "cell_type": "markdown",
   "metadata": {},
   "source": [
    "## Get the NGEE Tropics Dataset\n",
    "Fine the dataset with ngt_id"
   ]
  },
  {
   "cell_type": "code",
   "execution_count": null,
   "metadata": {},
   "outputs": [],
   "source": [
    "# find the dataset with the ngt_id \n",
    "dataset_json = find_dataset_by_ngt_id(session, ngt_id_text.value)\n",
    "\n",
    "print(\"***********************************\")\n",
    "print(\"   Got the Dataset {}!!\".format(dataset_json[\"data_set_id\"]))\n",
    "print(\"***********************************\")"
   ]
  },
  {
   "cell_type": "markdown",
   "metadata": {},
   "source": [
    "Create OSTI Record with the NGT Archive dataset "
   ]
  },
  {
   "cell_type": "code",
   "execution_count": null,
   "metadata": {},
   "outputs": [],
   "source": [
    "# Basic NGT to OST Mapping\n",
    "MAPPING = [('title','name'),\n",
    "   ('product_nos','data_set_id'),\n",
    "   ('contract_nos','doe_funding_contract_numbers'),\n",
    "   ('non-doe_contract_nos','doe_funding_contract_numbers'),\n",
    "   ('originating_research_org','originating_institution'),\n",
    "   ('description','description'),\n",
    "   ('sponsor_org','funding_organizations'),\n",
    "   ('related_resource','reference')]\n",
    "\n",
    "# Create OSTI XML\n",
    "records = ET.Element('records')\n",
    "record = ET.SubElement(records,'record')\n",
    "\n",
    "for k, v in MAPPING:\n",
    "    set_value(record,k,dataset_json[v])\n",
    "\n",
    "# Leave Blank for new  -fill in XXX with existing DOI otherwise.\n",
    "set_value(record,'osti_id','1605211')\n",
    "\n",
    "# DataSet Type: Dataset Type refers to the main content of the\n",
    "# dataset. Only one value is allowed. Use the two-letter codes shown below:\n",
    "set_value(record,'dataset_type', 'SM') # Specialized Mix\n",
    "\n",
    "# Auto-fill\n",
    "set_value(record,'site_url','{}/dois/{}'.format(host_text.value,dataset_json[\"data_set_id\"]))\n",
    "set_value(record,'publication_date',datetime.now().strftime(\"%Y\"))\n",
    "set_value(record, 'contact_name', 'NGEE Tropics Archive Team, Support Organization')\n",
    "set_value(record, 'contact_email', 'ngee-tropics-archive@googlegroups.com')\n",
    "set_value(record, 'contact_org', 'Lawrence Berkeley National Lab')\n",
    "set_value(record, 'site_code','NGEE-TRPC')\n",
    "set_value(record, 'doi_infix','ngt')\n",
    "set_value(record, 'subject_categories_code','54 ENVIRONMENTAL SCIENCES')\n",
    "set_value(record, 'language','English')\n",
    "set_value(record, 'country',\"US\")\n",
    "\n",
    "# Generate the Authors section\n",
    "creators(session,record, dataset_json[\"authors\"])\n",
    "\n",
    "# Store OSTI XML \n",
    "from xml.dom.minidom import parseString\n",
    "dom3 = parseString(ET.tostring(records))\n",
    "OSTI_XML=dom3.toprettyxml()"
   ]
  },
  {
   "cell_type": "markdown",
   "metadata": {},
   "source": [
    "## Step 4: Modify the OSTI XML\n",
    "Separate the DOE contract numbers from the NON-DOE contract numbers.\n",
    "\n",
    "`contract_nos` - Use the format of the contract “as is,” but leave off any preceding “DE”. If multiple DOE contract and/or grant numbers apply, separate with a semi-colon followed by a space.\n",
    "\n",
    "`non-doe_contract_nos` - Enter contract or award numbers that are not assigned by DOE (an NSF award number, for example). Multiple entries are allowed. They must be separated by a semi-colon followed by a space."
   ]
  },
  {
   "cell_type": "markdown",
   "metadata": {},
   "source": [
    "## Edit the OSTI XML in the Text Area below"
   ]
  },
  {
   "cell_type": "code",
   "execution_count": null,
   "metadata": {},
   "outputs": [],
   "source": [
    "from ipywidgets import widgets, interact\n",
    "from IPython.display import display\n",
    "\n",
    "ta = widgets.Textarea(OSTI_XML)\n",
    "#ta.layout.width = '95%'\n",
    "#ta.layout.height = '300px'\n",
    "display(ta)"
   ]
  },
  {
   "cell_type": "markdown",
   "metadata": {},
   "source": [
    "### Confirm OSTI XML\n",
    "Review the edited XML. If it is incorrect make corrections in the TextArea above"
   ]
  },
  {
   "cell_type": "code",
   "execution_count": null,
   "metadata": {
    "scrolled": true
   },
   "outputs": [],
   "source": [
    "#print(ta.value)\n",
    "print(ta.value.encode('utf-8')) #For funky strings"
   ]
  },
  {
   "cell_type": "markdown",
   "metadata": {},
   "source": [
    "## Step 3: Mint NGEE Tropics DOI\n",
    "Execute the script below to mint a new DOI with  OSTI \n"
   ]
  },
  {
   "cell_type": "code",
   "execution_count": null,
   "metadata": {},
   "outputs": [],
   "source": [
    "elink_url=\"https://www.osti.gov/elink/2416api\"\n",
    "\n",
    "headers = {'Content-Type': 'application/xml'} \n",
    "r = requests.post(elink_url, \n",
    "                  data=ta.value.encode('utf-8'), \n",
    "                  headers=headers, \n",
    "                  auth=(os.environ[\"ELINK_USER\"],os.environ[\"ELINK_PASSWORD\"]))"
   ]
  },
  {
   "cell_type": "markdown",
   "metadata": {},
   "source": [
    "## Print the Results"
   ]
  },
  {
   "cell_type": "code",
   "execution_count": null,
   "metadata": {},
   "outputs": [],
   "source": [
    "DOI=None\n",
    "\n",
    "\n",
    "if r.status_code == 200:\n",
    "    dom3 = parseString(r.content)\n",
    "    print(dom3.toprettyxml())\n",
    "    root = ET.fromstring(r.content)\n",
    "    doi = root.find(\"./record/doi\")\n",
    "    status = doi.get(\"status\")\n",
    "    \n",
    "    DOI = doi.text\n",
    "    print(\"DOI:\\t\\t{}\".format(doi.text))\n",
    "    print(\"DOI STATUS:\\t{}\".format(status))\n",
    "    \n",
    "    \n",
    "else:\n",
    "    print_response(r)"
   ]
  },
  {
   "cell_type": "markdown",
   "metadata": {},
   "source": [
    "# Step 5: Update the NGT Record with the DOI\n",
    "Get the new DOI minted from the above procedure and review below."
   ]
  },
  {
   "cell_type": "code",
   "execution_count": null,
   "metadata": {},
   "outputs": [],
   "source": [
    "# DOI = \"10.15486/ngt/1434046\"\n",
    "DOI_URL = \"http://dx.doi.org/{}\".format(DOI)\n",
    "print(DOI_URL)"
   ]
  },
  {
   "cell_type": "markdown",
   "metadata": {},
   "source": [
    "NGT Datasets that have been approved may not be edited.  So, in order to edit an approve dataset, it must first be unapproved, updated and then reapproved.  **Only execute this on \"APPROVED\" datasets**"
   ]
  },
  {
   "cell_type": "code",
   "execution_count": null,
   "metadata": {},
   "outputs": [],
   "source": [
    "import json\n",
    "\n",
    "update_data = dict()\n",
    "update_data.update(dataset_json)\n",
    "update_data[\"doi\"]=DOI_URL\n",
    "\n",
    "# Unapprove first to update DOI\n",
    "r = session.get(\"{}unapprove\".format(dataset_json[\"url\"]))\n",
    "print_response(r)\n",
    "\n",
    "if r.status_code == 200:\n",
    "    r= session.put(dataset_json[\"url\"],data=json.dumps(update_data),\n",
    "                   cookies=cookies,\n",
    "                   headers={'Content-Type':'application/json',\n",
    "                           'X-CSRFToken':cookies[\"csrftoken\"],\n",
    "                           'Referer':host_text.value})\n",
    "    if r.status_code == 200:\n",
    "        print(\"\\nSuccessfully Updated DOI\\n\")\n",
    "    else:\n",
    "        print_response(r)\n",
    "    \n",
    "    # Reapprove dataset\n",
    "    r = session.get(\"{}approve\".format(dataset_json[\"url\"]))\n",
    "    print_response(r)\n",
    "else:\n",
    "    print_response(r)"
   ]
  },
  {
   "cell_type": "markdown",
   "metadata": {},
   "source": [
    "# Confirm update"
   ]
  },
  {
   "cell_type": "code",
   "execution_count": null,
   "metadata": {
    "scrolled": true
   },
   "outputs": [],
   "source": [
    "r = session.get(dataset_json[\"url\"])\n",
    "print(r.json()[\"doi\"])"
   ]
  }
 ],
 "metadata": {
  "anaconda-cloud": {},
  "kernelspec": {
   "display_name": "Python 3",
   "language": "python",
   "name": "python3"
  },
  "language_info": {
   "codemirror_mode": {
    "name": "ipython",
    "version": 3
   },
   "file_extension": ".py",
   "mimetype": "text/x-python",
   "name": "python",
   "nbconvert_exporter": "python",
   "pygments_lexer": "ipython3",
   "version": "3.8.3"
  },
  "widgets": {
   "application/vnd.jupyter.widget-state+json": {
    "state": {},
    "version_major": 2,
    "version_minor": 0
   }
  }
 },
 "nbformat": 4,
 "nbformat_minor": 4
}
